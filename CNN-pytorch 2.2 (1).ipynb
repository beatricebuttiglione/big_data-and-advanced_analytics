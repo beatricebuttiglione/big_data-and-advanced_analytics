{
 "cells": [
  {
   "cell_type": "code",
   "execution_count": null,
   "id": "e0232777",
   "metadata": {},
   "outputs": [],
   "source": [
    "import warnings\n",
    "warnings.filterwarnings(\"ignore\")"
   ]
  },
  {
   "cell_type": "code",
   "execution_count": null,
   "id": "8480415c",
   "metadata": {},
   "outputs": [],
   "source": [
    "import os\n",
    "import csv\n",
    "import pandas as pd\n",
    "from torchvision import transforms\n",
    "from PIL import Image"
   ]
  },
  {
   "cell_type": "code",
   "execution_count": 4,
   "id": "d6070e9f",
   "metadata": {},
   "outputs": [],
   "source": [
    "from pyspark.sql import SparkSession\n",
    "spark = SparkSession.builder.appName(\"data_pre_processing\").getOrCreate()\n"
   ]
  },
  {
   "cell_type": "code",
   "execution_count": 6,
   "id": "bb77da9e",
   "metadata": {},
   "outputs": [],
   "source": [
    "import os\n",
    "os.chdir(\"/home/hduser/Descargas/weather\")\n"
   ]
  },
  {
   "cell_type": "code",
   "execution_count": 7,
   "id": "8d8b2888",
   "metadata": {},
   "outputs": [],
   "source": [
    "folder = \"/home/hduser/Descargas/weather\"\n",
    "#directory with images folder"
   ]
  },
  {
   "cell_type": "markdown",
   "id": "f7aecbea",
   "metadata": {},
   "source": [
    "# Data preprocessing"
   ]
  },
  {
   "cell_type": "code",
   "execution_count": 8,
   "id": "31d478f2",
   "metadata": {},
   "outputs": [],
   "source": [
    "# create CSV with labels and image names\n",
    "\n",
    "# assign label\n",
    "def assign_label(nome_file):\n",
    "    if nome_file.startswith(\"rain\"):\n",
    "        return \"rain\"\n",
    "    elif nome_file.startswith(\"cloudy\"):\n",
    "        return \"cloudy\"\n",
    "    elif nome_file.startswith(\"shine\"):\n",
    "        return \"shine\"\n",
    "    elif nome_file.startswith(\"sunrise\"):\n",
    "        return \"sunrise\"\n",
    "    else:\n",
    "        return \"other\"\n",
    "\n",
    "# List\n",
    "dati = []\n",
    "\n",
    "\n",
    "for x in os.listdir(folder):\n",
    "    if x.endswith(tuple(\".jpg\")):\n",
    "        label = assign_label(x)\n",
    "        dati.append((x, label))\n",
    "\n",
    "\n",
    "df = pd.DataFrame(dati, columns=[\"image\", \"label\"])\n",
    "\n"
   ]
  },
  {
   "cell_type": "code",
   "execution_count": 9,
   "id": "05cef31b",
   "metadata": {},
   "outputs": [
    {
     "data": {
      "text/html": [
       "<div>\n",
       "<style scoped>\n",
       "    .dataframe tbody tr th:only-of-type {\n",
       "        vertical-align: middle;\n",
       "    }\n",
       "\n",
       "    .dataframe tbody tr th {\n",
       "        vertical-align: top;\n",
       "    }\n",
       "\n",
       "    .dataframe thead th {\n",
       "        text-align: right;\n",
       "    }\n",
       "</style>\n",
       "<table border=\"1\" class=\"dataframe\">\n",
       "  <thead>\n",
       "    <tr style=\"text-align: right;\">\n",
       "      <th></th>\n",
       "      <th>image</th>\n",
       "      <th>label</th>\n",
       "    </tr>\n",
       "  </thead>\n",
       "  <tbody>\n",
       "    <tr>\n",
       "      <th>0</th>\n",
       "      <td>rain108.jpg</td>\n",
       "      <td>rain</td>\n",
       "    </tr>\n",
       "    <tr>\n",
       "      <th>1</th>\n",
       "      <td>shine24.jpg</td>\n",
       "      <td>shine</td>\n",
       "    </tr>\n",
       "    <tr>\n",
       "      <th>2</th>\n",
       "      <td>shine94.jpg</td>\n",
       "      <td>shine</td>\n",
       "    </tr>\n",
       "    <tr>\n",
       "      <th>3</th>\n",
       "      <td>shine231.jpg</td>\n",
       "      <td>shine</td>\n",
       "    </tr>\n",
       "    <tr>\n",
       "      <th>4</th>\n",
       "      <td>sunrise334.jpg</td>\n",
       "      <td>sunrise</td>\n",
       "    </tr>\n",
       "  </tbody>\n",
       "</table>\n",
       "</div>"
      ],
      "text/plain": [
       "            image    label\n",
       "0     rain108.jpg     rain\n",
       "1     shine24.jpg    shine\n",
       "2     shine94.jpg    shine\n",
       "3    shine231.jpg    shine\n",
       "4  sunrise334.jpg  sunrise"
      ]
     },
     "execution_count": 9,
     "metadata": {},
     "output_type": "execute_result"
    }
   ],
   "source": [
    "df.head()"
   ]
  },
  {
   "cell_type": "code",
   "execution_count": 10,
   "id": "160a4314",
   "metadata": {},
   "outputs": [],
   "source": [
    "# input dimensions for the CNN\n",
    "input_dim = (224,224)\n",
    "input_dir_cnn = folder + \"/images/input_images_cnn\"\n"
   ]
  },
  {
   "cell_type": "code",
   "execution_count": 11,
   "id": "c941d301",
   "metadata": {},
   "outputs": [],
   "source": [
    "os.makedirs(input_dir_cnn, exist_ok = True)\n"
   ]
  },
  {
   "cell_type": "code",
   "execution_count": 12,
   "id": "9284a250",
   "metadata": {},
   "outputs": [],
   "source": [
    "transformation_for_cnn_input = transforms.Compose([transforms.Resize(input_dim)])\n"
   ]
  },
  {
   "cell_type": "code",
   "execution_count": 15,
   "id": "f65c3279",
   "metadata": {},
   "outputs": [],
   "source": [
    "output_dir = 'Descargas/output_images_cnn'\n"
   ]
  },
  {
   "cell_type": "code",
   "execution_count": 16,
   "id": "3918402d",
   "metadata": {},
   "outputs": [],
   "source": [
    "folder = \"/home/hduser/Descargas/weather\" \n",
    "input_dir_cnn = output_dir  \n",
    "\n",
    "\n",
    "os.makedirs(input_dir_cnn, exist_ok=True)\n",
    "\n",
    "for item in os.listdir(folder):\n",
    "    item_path = os.path.join(folder, item)\n",
    "\n",
    "    \n",
    "    if os.path.isfile(item_path):  # if is a file\n",
    "        I = Image.open(item_path)\n",
    "\n",
    "        \n",
    "        if I.mode != 'RGB': # convert in RGB (colors)\n",
    "            I = I.convert('RGB')\n",
    "\n",
    "        \n",
    "        newI = transformation_for_cnn_input(I) # transform for cnn\n",
    "\n",
    "        \n",
    "        newI.save(os.path.join(input_dir_cnn, item)) # save in jpeg\n",
    "\n",
    "        # close images\n",
    "        I.close()\n",
    "        newI.close()\n"
   ]
  },
  {
   "cell_type": "code",
   "execution_count": 17,
   "id": "9a6277e9",
   "metadata": {},
   "outputs": [],
   "source": [
    "import torch\n",
    "from torchvision import models\n",
    "from PIL import Image"
   ]
  },
  {
   "cell_type": "code",
   "execution_count": 18,
   "id": "80ae8e60",
   "metadata": {},
   "outputs": [],
   "source": [
    "class Img2VecResnet18():\n",
    "    \n",
    "    def __init__(self):\n",
    "        \n",
    "        self.device = torch.device(\"cpu\")\n",
    "        self.numberFeatures = 512\n",
    "        self.modelName = \"resnet-18\"\n",
    "        self.model, self.featureLayer = self.getFeatureLayer() \n",
    "        self.model = self.model.to(self.device) \n",
    "        self.model.eval()\n",
    "        self.toTensor = transforms.ToTensor()\n",
    "        self.normalize = transforms.Normalize(mean=[0.485, 0.456, 0.406],\n",
    "                                              std=[0.229, 0.224, 0.225])\n",
    "        \n",
    "    def getFeatureLayer(self):\n",
    "    \n",
    "        cnnModel = models.resnet18(pretrained=True) \n",
    "        layer = cnnModel._modules.get('avgpool') \n",
    "        self.layer_output_size = 512\n",
    "        return cnnModel, layer\n",
    "\n",
    "    def getVec(self, img):\n",
    "        image = self.normalize(self.toTensor(img)).unsqueeze(0).to(self.device) \n",
    "        embedding = torch.zeros(1, self.numberFeatures, 1, 1)\n",
    "        def copyData(m, i, o): embedding.copy_(o.data)\n",
    "        h = self.featureLayer.register_forward_hook(copyData)\n",
    "        self.model(image)\n",
    "        h.remove()\n",
    "        return embedding.numpy()[0, :, 0, 0]\n",
    "\n",
    "\n",
    "    \n"
   ]
  },
  {
   "cell_type": "code",
   "execution_count": 21,
   "id": "866b67b0",
   "metadata": {},
   "outputs": [],
   "source": [
    "import tqdm\n",
    "from torchvision import models, transforms "
   ]
  },
  {
   "cell_type": "code",
   "execution_count": 22,
   "id": "8acc49cc",
   "metadata": {},
   "outputs": [
    {
     "name": "stderr",
     "output_type": "stream",
     "text": [
      "/home/hduser/.local/lib/python3.10/site-packages/torchvision/models/_utils.py:208: UserWarning: The parameter 'pretrained' is deprecated since 0.13 and may be removed in the future, please use 'weights' instead.\n",
      "  warnings.warn(\n",
      "/home/hduser/.local/lib/python3.10/site-packages/torchvision/models/_utils.py:223: UserWarning: Arguments other than a weight enum or `None` for 'weights' are deprecated since 0.13 and may be removed in the future. The current behavior is equivalent to passing `weights=ResNet18_Weights.IMAGENET1K_V1`. You can also use `weights=ResNet18_Weights.DEFAULT` to get the most up-to-date weights.\n",
      "  warnings.warn(msg)\n",
      "Downloading: \"https://download.pytorch.org/models/resnet18-f37072fd.pth\" to /home/hduser/.cache/torch/hub/checkpoints/resnet18-f37072fd.pth\n",
      "100.0%\n"
     ]
    }
   ],
   "source": [
    "img2vec = Img2VecResnet18()"
   ]
  },
  {
   "cell_type": "code",
   "execution_count": 23,
   "id": "8b5739d5",
   "metadata": {},
   "outputs": [],
   "source": [
    "allVectors = {}"
   ]
  },
  {
   "cell_type": "code",
   "execution_count": 24,
   "id": "59cfa65f",
   "metadata": {},
   "outputs": [],
   "source": [
    "for image_name in os.listdir(input_dir_cnn):\n",
    "    I = Image.open(os.path.join(input_dir_cnn, image_name))\n",
    "    vec = img2vec.getVec(I)\n",
    "    allVectors[image_name] = vec\n",
    "    I.close()"
   ]
  },
  {
   "cell_type": "code",
   "execution_count": 25,
   "id": "93de5e3d",
   "metadata": {},
   "outputs": [],
   "source": [
    "data_folder = os.path.expanduser('~/Descargas')"
   ]
  },
  {
   "cell_type": "code",
   "execution_count": 26,
   "id": "e387947e",
   "metadata": {},
   "outputs": [],
   "source": [
    "pd.DataFrame(allVectors).transpose().to_csv(data_folder+'/input_data_vectors.csv')\n"
   ]
  },
  {
   "cell_type": "code",
   "execution_count": 27,
   "id": "ee6fb9c5",
   "metadata": {},
   "outputs": [],
   "source": [
    "spark.stop()"
   ]
  },
  {
   "cell_type": "code",
   "execution_count": 42,
   "id": "5141841c",
   "metadata": {},
   "outputs": [],
   "source": [
    "import warnings\n",
    "warnings.filterwarnings(\"ignore\")"
   ]
  },
  {
   "cell_type": "code",
   "execution_count": 43,
   "id": "6d24b6e0",
   "metadata": {},
   "outputs": [],
   "source": [
    "import numpy as np\n",
    "import pandas as pd\n",
    "import tensorflow as tf\n",
    "from sklearn.model_selection import train_test_split\n",
    "from sklearn.preprocessing import LabelEncoder\n",
    "from tensorflow.keras import layers, models"
   ]
  },
  {
   "cell_type": "code",
   "execution_count": 44,
   "id": "a953ecf7",
   "metadata": {},
   "outputs": [],
   "source": [
    "spark = SparkSession.builder.appName(\"model\").getOrCreate()"
   ]
  },
  {
   "cell_type": "code",
   "execution_count": 45,
   "id": "c8c8879d",
   "metadata": {},
   "outputs": [],
   "source": [
    "input_df = spark.read.option('inferschema',True).\\\n",
    "                    csv('hdfs://localhost:9000/user1/input_data_vectors.csv')\n",
    "                                     "
   ]
  },
  {
   "cell_type": "code",
   "execution_count": 46,
   "id": "65e60a3a",
   "metadata": {},
   "outputs": [
    {
     "data": {
      "text/plain": [
       "['_c0',\n",
       " '_c1',\n",
       " '_c2',\n",
       " '_c3',\n",
       " '_c4',\n",
       " '_c5',\n",
       " '_c6',\n",
       " '_c7',\n",
       " '_c8',\n",
       " '_c9',\n",
       " '_c10',\n",
       " '_c11',\n",
       " '_c12',\n",
       " '_c13',\n",
       " '_c14',\n",
       " '_c15',\n",
       " '_c16',\n",
       " '_c17',\n",
       " '_c18',\n",
       " '_c19',\n",
       " '_c20',\n",
       " '_c21',\n",
       " '_c22',\n",
       " '_c23',\n",
       " '_c24',\n",
       " '_c25',\n",
       " '_c26',\n",
       " '_c27',\n",
       " '_c28',\n",
       " '_c29',\n",
       " '_c30',\n",
       " '_c31',\n",
       " '_c32',\n",
       " '_c33',\n",
       " '_c34',\n",
       " '_c35',\n",
       " '_c36',\n",
       " '_c37',\n",
       " '_c38',\n",
       " '_c39',\n",
       " '_c40',\n",
       " '_c41',\n",
       " '_c42',\n",
       " '_c43',\n",
       " '_c44',\n",
       " '_c45',\n",
       " '_c46',\n",
       " '_c47',\n",
       " '_c48',\n",
       " '_c49',\n",
       " '_c50',\n",
       " '_c51',\n",
       " '_c52',\n",
       " '_c53',\n",
       " '_c54',\n",
       " '_c55',\n",
       " '_c56',\n",
       " '_c57',\n",
       " '_c58',\n",
       " '_c59',\n",
       " '_c60',\n",
       " '_c61',\n",
       " '_c62',\n",
       " '_c63',\n",
       " '_c64',\n",
       " '_c65',\n",
       " '_c66',\n",
       " '_c67',\n",
       " '_c68',\n",
       " '_c69',\n",
       " '_c70',\n",
       " '_c71',\n",
       " '_c72',\n",
       " '_c73',\n",
       " '_c74',\n",
       " '_c75',\n",
       " '_c76',\n",
       " '_c77',\n",
       " '_c78',\n",
       " '_c79',\n",
       " '_c80',\n",
       " '_c81',\n",
       " '_c82',\n",
       " '_c83',\n",
       " '_c84',\n",
       " '_c85',\n",
       " '_c86',\n",
       " '_c87',\n",
       " '_c88',\n",
       " '_c89',\n",
       " '_c90',\n",
       " '_c91',\n",
       " '_c92',\n",
       " '_c93',\n",
       " '_c94',\n",
       " '_c95',\n",
       " '_c96',\n",
       " '_c97',\n",
       " '_c98',\n",
       " '_c99',\n",
       " '_c100',\n",
       " '_c101',\n",
       " '_c102',\n",
       " '_c103',\n",
       " '_c104',\n",
       " '_c105',\n",
       " '_c106',\n",
       " '_c107',\n",
       " '_c108',\n",
       " '_c109',\n",
       " '_c110',\n",
       " '_c111',\n",
       " '_c112',\n",
       " '_c113',\n",
       " '_c114',\n",
       " '_c115',\n",
       " '_c116',\n",
       " '_c117',\n",
       " '_c118',\n",
       " '_c119',\n",
       " '_c120',\n",
       " '_c121',\n",
       " '_c122',\n",
       " '_c123',\n",
       " '_c124',\n",
       " '_c125',\n",
       " '_c126',\n",
       " '_c127',\n",
       " '_c128',\n",
       " '_c129',\n",
       " '_c130',\n",
       " '_c131',\n",
       " '_c132',\n",
       " '_c133',\n",
       " '_c134',\n",
       " '_c135',\n",
       " '_c136',\n",
       " '_c137',\n",
       " '_c138',\n",
       " '_c139',\n",
       " '_c140',\n",
       " '_c141',\n",
       " '_c142',\n",
       " '_c143',\n",
       " '_c144',\n",
       " '_c145',\n",
       " '_c146',\n",
       " '_c147',\n",
       " '_c148',\n",
       " '_c149',\n",
       " '_c150',\n",
       " '_c151',\n",
       " '_c152',\n",
       " '_c153',\n",
       " '_c154',\n",
       " '_c155',\n",
       " '_c156',\n",
       " '_c157',\n",
       " '_c158',\n",
       " '_c159',\n",
       " '_c160',\n",
       " '_c161',\n",
       " '_c162',\n",
       " '_c163',\n",
       " '_c164',\n",
       " '_c165',\n",
       " '_c166',\n",
       " '_c167',\n",
       " '_c168',\n",
       " '_c169',\n",
       " '_c170',\n",
       " '_c171',\n",
       " '_c172',\n",
       " '_c173',\n",
       " '_c174',\n",
       " '_c175',\n",
       " '_c176',\n",
       " '_c177',\n",
       " '_c178',\n",
       " '_c179',\n",
       " '_c180',\n",
       " '_c181',\n",
       " '_c182',\n",
       " '_c183',\n",
       " '_c184',\n",
       " '_c185',\n",
       " '_c186',\n",
       " '_c187',\n",
       " '_c188',\n",
       " '_c189',\n",
       " '_c190',\n",
       " '_c191',\n",
       " '_c192',\n",
       " '_c193',\n",
       " '_c194',\n",
       " '_c195',\n",
       " '_c196',\n",
       " '_c197',\n",
       " '_c198',\n",
       " '_c199',\n",
       " '_c200',\n",
       " '_c201',\n",
       " '_c202',\n",
       " '_c203',\n",
       " '_c204',\n",
       " '_c205',\n",
       " '_c206',\n",
       " '_c207',\n",
       " '_c208',\n",
       " '_c209',\n",
       " '_c210',\n",
       " '_c211',\n",
       " '_c212',\n",
       " '_c213',\n",
       " '_c214',\n",
       " '_c215',\n",
       " '_c216',\n",
       " '_c217',\n",
       " '_c218',\n",
       " '_c219',\n",
       " '_c220',\n",
       " '_c221',\n",
       " '_c222',\n",
       " '_c223',\n",
       " '_c224',\n",
       " '_c225',\n",
       " '_c226',\n",
       " '_c227',\n",
       " '_c228',\n",
       " '_c229',\n",
       " '_c230',\n",
       " '_c231',\n",
       " '_c232',\n",
       " '_c233',\n",
       " '_c234',\n",
       " '_c235',\n",
       " '_c236',\n",
       " '_c237',\n",
       " '_c238',\n",
       " '_c239',\n",
       " '_c240',\n",
       " '_c241',\n",
       " '_c242',\n",
       " '_c243',\n",
       " '_c244',\n",
       " '_c245',\n",
       " '_c246',\n",
       " '_c247',\n",
       " '_c248',\n",
       " '_c249',\n",
       " '_c250',\n",
       " '_c251',\n",
       " '_c252',\n",
       " '_c253',\n",
       " '_c254',\n",
       " '_c255',\n",
       " '_c256',\n",
       " '_c257',\n",
       " '_c258',\n",
       " '_c259',\n",
       " '_c260',\n",
       " '_c261',\n",
       " '_c262',\n",
       " '_c263',\n",
       " '_c264',\n",
       " '_c265',\n",
       " '_c266',\n",
       " '_c267',\n",
       " '_c268',\n",
       " '_c269',\n",
       " '_c270',\n",
       " '_c271',\n",
       " '_c272',\n",
       " '_c273',\n",
       " '_c274',\n",
       " '_c275',\n",
       " '_c276',\n",
       " '_c277',\n",
       " '_c278',\n",
       " '_c279',\n",
       " '_c280',\n",
       " '_c281',\n",
       " '_c282',\n",
       " '_c283',\n",
       " '_c284',\n",
       " '_c285',\n",
       " '_c286',\n",
       " '_c287',\n",
       " '_c288',\n",
       " '_c289',\n",
       " '_c290',\n",
       " '_c291',\n",
       " '_c292',\n",
       " '_c293',\n",
       " '_c294',\n",
       " '_c295',\n",
       " '_c296',\n",
       " '_c297',\n",
       " '_c298',\n",
       " '_c299',\n",
       " '_c300',\n",
       " '_c301',\n",
       " '_c302',\n",
       " '_c303',\n",
       " '_c304',\n",
       " '_c305',\n",
       " '_c306',\n",
       " '_c307',\n",
       " '_c308',\n",
       " '_c309',\n",
       " '_c310',\n",
       " '_c311',\n",
       " '_c312',\n",
       " '_c313',\n",
       " '_c314',\n",
       " '_c315',\n",
       " '_c316',\n",
       " '_c317',\n",
       " '_c318',\n",
       " '_c319',\n",
       " '_c320',\n",
       " '_c321',\n",
       " '_c322',\n",
       " '_c323',\n",
       " '_c324',\n",
       " '_c325',\n",
       " '_c326',\n",
       " '_c327',\n",
       " '_c328',\n",
       " '_c329',\n",
       " '_c330',\n",
       " '_c331',\n",
       " '_c332',\n",
       " '_c333',\n",
       " '_c334',\n",
       " '_c335',\n",
       " '_c336',\n",
       " '_c337',\n",
       " '_c338',\n",
       " '_c339',\n",
       " '_c340',\n",
       " '_c341',\n",
       " '_c342',\n",
       " '_c343',\n",
       " '_c344',\n",
       " '_c345',\n",
       " '_c346',\n",
       " '_c347',\n",
       " '_c348',\n",
       " '_c349',\n",
       " '_c350',\n",
       " '_c351',\n",
       " '_c352',\n",
       " '_c353',\n",
       " '_c354',\n",
       " '_c355',\n",
       " '_c356',\n",
       " '_c357',\n",
       " '_c358',\n",
       " '_c359',\n",
       " '_c360',\n",
       " '_c361',\n",
       " '_c362',\n",
       " '_c363',\n",
       " '_c364',\n",
       " '_c365',\n",
       " '_c366',\n",
       " '_c367',\n",
       " '_c368',\n",
       " '_c369',\n",
       " '_c370',\n",
       " '_c371',\n",
       " '_c372',\n",
       " '_c373',\n",
       " '_c374',\n",
       " '_c375',\n",
       " '_c376',\n",
       " '_c377',\n",
       " '_c378',\n",
       " '_c379',\n",
       " '_c380',\n",
       " '_c381',\n",
       " '_c382',\n",
       " '_c383',\n",
       " '_c384',\n",
       " '_c385',\n",
       " '_c386',\n",
       " '_c387',\n",
       " '_c388',\n",
       " '_c389',\n",
       " '_c390',\n",
       " '_c391',\n",
       " '_c392',\n",
       " '_c393',\n",
       " '_c394',\n",
       " '_c395',\n",
       " '_c396',\n",
       " '_c397',\n",
       " '_c398',\n",
       " '_c399',\n",
       " '_c400',\n",
       " '_c401',\n",
       " '_c402',\n",
       " '_c403',\n",
       " '_c404',\n",
       " '_c405',\n",
       " '_c406',\n",
       " '_c407',\n",
       " '_c408',\n",
       " '_c409',\n",
       " '_c410',\n",
       " '_c411',\n",
       " '_c412',\n",
       " '_c413',\n",
       " '_c414',\n",
       " '_c415',\n",
       " '_c416',\n",
       " '_c417',\n",
       " '_c418',\n",
       " '_c419',\n",
       " '_c420',\n",
       " '_c421',\n",
       " '_c422',\n",
       " '_c423',\n",
       " '_c424',\n",
       " '_c425',\n",
       " '_c426',\n",
       " '_c427',\n",
       " '_c428',\n",
       " '_c429',\n",
       " '_c430',\n",
       " '_c431',\n",
       " '_c432',\n",
       " '_c433',\n",
       " '_c434',\n",
       " '_c435',\n",
       " '_c436',\n",
       " '_c437',\n",
       " '_c438',\n",
       " '_c439',\n",
       " '_c440',\n",
       " '_c441',\n",
       " '_c442',\n",
       " '_c443',\n",
       " '_c444',\n",
       " '_c445',\n",
       " '_c446',\n",
       " '_c447',\n",
       " '_c448',\n",
       " '_c449',\n",
       " '_c450',\n",
       " '_c451',\n",
       " '_c452',\n",
       " '_c453',\n",
       " '_c454',\n",
       " '_c455',\n",
       " '_c456',\n",
       " '_c457',\n",
       " '_c458',\n",
       " '_c459',\n",
       " '_c460',\n",
       " '_c461',\n",
       " '_c462',\n",
       " '_c463',\n",
       " '_c464',\n",
       " '_c465',\n",
       " '_c466',\n",
       " '_c467',\n",
       " '_c468',\n",
       " '_c469',\n",
       " '_c470',\n",
       " '_c471',\n",
       " '_c472',\n",
       " '_c473',\n",
       " '_c474',\n",
       " '_c475',\n",
       " '_c476',\n",
       " '_c477',\n",
       " '_c478',\n",
       " '_c479',\n",
       " '_c480',\n",
       " '_c481',\n",
       " '_c482',\n",
       " '_c483',\n",
       " '_c484',\n",
       " '_c485',\n",
       " '_c486',\n",
       " '_c487',\n",
       " '_c488',\n",
       " '_c489',\n",
       " '_c490',\n",
       " '_c491',\n",
       " '_c492',\n",
       " '_c493',\n",
       " '_c494',\n",
       " '_c495',\n",
       " '_c496',\n",
       " '_c497',\n",
       " '_c498',\n",
       " '_c499',\n",
       " '_c500',\n",
       " '_c501',\n",
       " '_c502',\n",
       " '_c503',\n",
       " '_c504',\n",
       " '_c505',\n",
       " '_c506',\n",
       " '_c507',\n",
       " '_c508',\n",
       " '_c509',\n",
       " '_c510',\n",
       " '_c511',\n",
       " '_c512']"
      ]
     },
     "execution_count": 46,
     "metadata": {},
     "output_type": "execute_result"
    }
   ],
   "source": [
    "input_df.columns"
   ]
  },
  {
   "cell_type": "code",
   "execution_count": 47,
   "id": "dce35dd9",
   "metadata": {},
   "outputs": [],
   "source": [
    "from pyspark.ml.feature import VectorAssembler"
   ]
  },
  {
   "cell_type": "code",
   "execution_count": 48,
   "id": "4507b994",
   "metadata": {},
   "outputs": [],
   "source": [
    "vector_columns = input_df.columns[1:]"
   ]
  },
  {
   "cell_type": "code",
   "execution_count": 49,
   "id": "435c1959",
   "metadata": {},
   "outputs": [],
   "source": [
    "assembler = VectorAssembler(inputCols = vector_columns, outputCol = \"features\")"
   ]
  },
  {
   "cell_type": "code",
   "execution_count": 50,
   "id": "46f9f696",
   "metadata": {},
   "outputs": [],
   "source": [
    "output = assembler.transform(input_df)"
   ]
  },
  {
   "cell_type": "code",
   "execution_count": 51,
   "id": "5aa8b1a8",
   "metadata": {},
   "outputs": [],
   "source": [
    "output = output.select('_c0','features')"
   ]
  },
  {
   "cell_type": "code",
   "execution_count": 52,
   "id": "7d6f7984",
   "metadata": {},
   "outputs": [
    {
     "name": "stdout",
     "output_type": "stream",
     "text": [
      "-RECORD 0------------------------\n",
      " _c0      | null                 \n",
      " features | [0.0,1.0,2.0,3.0,... \n",
      "-RECORD 1------------------------\n",
      " _c0      | cloudy126.jpg        \n",
      " features | [0.20776045,0.534... \n",
      "-RECORD 2------------------------\n",
      " _c0      | rain20.jpg           \n",
      " features | [0.07726963,1.333... \n",
      "only showing top 3 rows\n",
      "\n"
     ]
    }
   ],
   "source": [
    "output.show(3, vertical = True)"
   ]
  },
  {
   "cell_type": "code",
   "execution_count": 53,
   "id": "bd770030",
   "metadata": {},
   "outputs": [
    {
     "name": "stdout",
     "output_type": "stream",
     "text": [
      "root\n",
      " |-- _c0: string (nullable = true)\n",
      " |-- features: vector (nullable = true)\n",
      "\n"
     ]
    }
   ],
   "source": [
    "output.printSchema()"
   ]
  },
  {
   "cell_type": "code",
   "execution_count": 54,
   "id": "157d0013",
   "metadata": {},
   "outputs": [],
   "source": [
    "from pyspark.sql.window import Window\n",
    "import pyspark.sql.functions as F"
   ]
  },
  {
   "cell_type": "code",
   "execution_count": 55,
   "id": "4547739d",
   "metadata": {},
   "outputs": [
    {
     "name": "stdout",
     "output_type": "stream",
     "text": [
      "+-------------+--------------------+\n",
      "|          _c0|            features|\n",
      "+-------------+--------------------+\n",
      "|cloudy126.jpg|[0.20776045,0.534...|\n",
      "|   rain20.jpg|[0.07726963,1.333...|\n",
      "|   rain34.jpg|[0.48569173,1.763...|\n",
      "+-------------+--------------------+\n",
      "only showing top 3 rows\n",
      "\n"
     ]
    }
   ],
   "source": [
    "#remove first row in the dataframe, adding column with index\n",
    "output = output.withColumn(\"index\", F.monotonically_increasing_id())\n",
    "min_index = output.select(F.min(\"index\")).first()[0]\n",
    "\n",
    "# filter rows\n",
    "filtered_df = output.filter(output[\"index\"] > min_index)\n",
    "\n",
    "# drop index\n",
    "filtered_df = filtered_df.drop(\"index\")\n",
    "\n",
    "filtered_df.show(3)"
   ]
  },
  {
   "cell_type": "code",
   "execution_count": 56,
   "id": "8ae12a56",
   "metadata": {},
   "outputs": [],
   "source": [
    "def label_image(x):\n",
    "    if x.startswith(\"rain\"):\n",
    "        return \"rain\"\n",
    "    elif x.startswith(\"cloudy\"):\n",
    "        return \"cloudy\"\n",
    "    elif x.startswith(\"shine\"):\n",
    "        return \"shine\"\n",
    "    elif x.startswith(\"sunrise\"):\n",
    "        return \"sunrise\"\n",
    "    else:\n",
    "        return \"other\""
   ]
  },
  {
   "cell_type": "code",
   "execution_count": 57,
   "id": "d3b107b8",
   "metadata": {},
   "outputs": [],
   "source": [
    "import pandas as pd "
   ]
  },
  {
   "cell_type": "code",
   "execution_count": 58,
   "id": "0e1f0f23",
   "metadata": {},
   "outputs": [
    {
     "name": "stderr",
     "output_type": "stream",
     "text": [
      "                                                                                \r"
     ]
    }
   ],
   "source": [
    "df= filtered_df.toPandas()"
   ]
  },
  {
   "cell_type": "code",
   "execution_count": 59,
   "id": "49c38b04",
   "metadata": {},
   "outputs": [],
   "source": [
    "df[\"label\"] = df[\"_c0\"].apply(label_image)"
   ]
  },
  {
   "cell_type": "code",
   "execution_count": 60,
   "id": "8fd7877b",
   "metadata": {},
   "outputs": [
    {
     "data": {
      "text/html": [
       "<div>\n",
       "<style scoped>\n",
       "    .dataframe tbody tr th:only-of-type {\n",
       "        vertical-align: middle;\n",
       "    }\n",
       "\n",
       "    .dataframe tbody tr th {\n",
       "        vertical-align: top;\n",
       "    }\n",
       "\n",
       "    .dataframe thead th {\n",
       "        text-align: right;\n",
       "    }\n",
       "</style>\n",
       "<table border=\"1\" class=\"dataframe\">\n",
       "  <thead>\n",
       "    <tr style=\"text-align: right;\">\n",
       "      <th></th>\n",
       "      <th>_c0</th>\n",
       "      <th>features</th>\n",
       "      <th>label</th>\n",
       "    </tr>\n",
       "  </thead>\n",
       "  <tbody>\n",
       "    <tr>\n",
       "      <th>0</th>\n",
       "      <td>cloudy126.jpg</td>\n",
       "      <td>[0.20776045, 0.5349115, 0.06763665, 0.26847824...</td>\n",
       "      <td>cloudy</td>\n",
       "    </tr>\n",
       "    <tr>\n",
       "      <th>1</th>\n",
       "      <td>rain20.jpg</td>\n",
       "      <td>[0.07726963, 1.3335361, 0.47853556, 0.03628950...</td>\n",
       "      <td>rain</td>\n",
       "    </tr>\n",
       "    <tr>\n",
       "      <th>2</th>\n",
       "      <td>rain34.jpg</td>\n",
       "      <td>[0.48569173, 1.7636161, 0.4241169, 0.7579224, ...</td>\n",
       "      <td>rain</td>\n",
       "    </tr>\n",
       "    <tr>\n",
       "      <th>3</th>\n",
       "      <td>cloudy132.jpg</td>\n",
       "      <td>[0.30124563, 0.08039489, 0.10868763, 0.4784735...</td>\n",
       "      <td>cloudy</td>\n",
       "    </tr>\n",
       "    <tr>\n",
       "      <th>4</th>\n",
       "      <td>sunrise33.jpg</td>\n",
       "      <td>[0.46167415, 2.0126479, 0.61442626, 0.20303471...</td>\n",
       "      <td>sunrise</td>\n",
       "    </tr>\n",
       "  </tbody>\n",
       "</table>\n",
       "</div>"
      ],
      "text/plain": [
       "             _c0                                           features    label\n",
       "0  cloudy126.jpg  [0.20776045, 0.5349115, 0.06763665, 0.26847824...   cloudy\n",
       "1     rain20.jpg  [0.07726963, 1.3335361, 0.47853556, 0.03628950...     rain\n",
       "2     rain34.jpg  [0.48569173, 1.7636161, 0.4241169, 0.7579224, ...     rain\n",
       "3  cloudy132.jpg  [0.30124563, 0.08039489, 0.10868763, 0.4784735...   cloudy\n",
       "4  sunrise33.jpg  [0.46167415, 2.0126479, 0.61442626, 0.20303471...  sunrise"
      ]
     },
     "execution_count": 60,
     "metadata": {},
     "output_type": "execute_result"
    }
   ],
   "source": [
    "df.head()"
   ]
  },
  {
   "cell_type": "code",
   "execution_count": 61,
   "id": "65be426e",
   "metadata": {},
   "outputs": [],
   "source": [
    "# define X and y for the model\n",
    "X = np.array(df['features'].tolist())  # Features vettorializzate\n",
    "y = df['label']  \n"
   ]
  },
  {
   "cell_type": "code",
   "execution_count": 62,
   "id": "61b09806",
   "metadata": {},
   "outputs": [],
   "source": [
    "\n",
    "# label encoded\n",
    "label_encoder = LabelEncoder()\n",
    "y_encoded = label_encoder.fit_transform(y)"
   ]
  },
  {
   "cell_type": "code",
   "execution_count": 63,
   "id": "5846f3a2",
   "metadata": {},
   "outputs": [],
   "source": [
    "# split dataset\n",
    "X_train, X_test, y_train, y_test = train_test_split(X, y_encoded, test_size=0.2, random_state=42)"
   ]
  },
  {
   "cell_type": "code",
   "execution_count": 64,
   "id": "fa2f954d",
   "metadata": {},
   "outputs": [],
   "source": [
    "# Create model\n",
    "model = models.Sequential([\n",
    "    layers.Input(shape=(len(X_train[0]),)),  # Input layer con dimensioni delle features\n",
    "    layers.Dense(128, activation='relu'),  # Hidden layer 1\n",
    "    layers.Dense(64, activation='relu'),   # Hidden layer 2\n",
    "    layers.Dense(len(label_encoder.classes_), activation='softmax')  # Output layer\n",
    "])\n",
    "\n"
   ]
  },
  {
   "cell_type": "code",
   "execution_count": 65,
   "id": "cecc5cf6",
   "metadata": {},
   "outputs": [],
   "source": [
    "# compile\n",
    "model.compile(optimizer='adam', loss='sparse_categorical_crossentropy', metrics=['accuracy'])\n"
   ]
  },
  {
   "cell_type": "code",
   "execution_count": 66,
   "id": "9ac80eb2",
   "metadata": {},
   "outputs": [
    {
     "name": "stdout",
     "output_type": "stream",
     "text": [
      "Epoch 1/10\n",
      "23/23 [==============================] - 1s 13ms/step - loss: 0.6886 - accuracy: 0.7542 - val_loss: 0.2183 - val_accuracy: 0.9444\n",
      "Epoch 2/10\n",
      "23/23 [==============================] - 0s 11ms/step - loss: 0.1472 - accuracy: 0.9583 - val_loss: 0.1304 - val_accuracy: 0.9611\n",
      "Epoch 3/10\n",
      "23/23 [==============================] - 0s 8ms/step - loss: 0.0837 - accuracy: 0.9750 - val_loss: 0.2228 - val_accuracy: 0.9278\n",
      "Epoch 4/10\n",
      "23/23 [==============================] - 0s 9ms/step - loss: 0.0787 - accuracy: 0.9778 - val_loss: 0.1185 - val_accuracy: 0.9556\n",
      "Epoch 5/10\n",
      "23/23 [==============================] - 0s 8ms/step - loss: 0.0665 - accuracy: 0.9778 - val_loss: 0.1413 - val_accuracy: 0.9556\n",
      "Epoch 6/10\n",
      "23/23 [==============================] - 0s 13ms/step - loss: 0.0516 - accuracy: 0.9833 - val_loss: 0.0992 - val_accuracy: 0.9611\n",
      "Epoch 7/10\n",
      "23/23 [==============================] - 0s 9ms/step - loss: 0.0458 - accuracy: 0.9819 - val_loss: 0.0954 - val_accuracy: 0.9667\n",
      "Epoch 8/10\n",
      "23/23 [==============================] - 0s 10ms/step - loss: 0.0362 - accuracy: 0.9917 - val_loss: 0.1290 - val_accuracy: 0.9722\n",
      "Epoch 9/10\n",
      "23/23 [==============================] - 0s 12ms/step - loss: 0.0284 - accuracy: 0.9931 - val_loss: 0.1104 - val_accuracy: 0.9667\n",
      "Epoch 10/10\n",
      "23/23 [==============================] - 0s 10ms/step - loss: 0.0287 - accuracy: 0.9903 - val_loss: 0.0953 - val_accuracy: 0.9667\n"
     ]
    },
    {
     "data": {
      "text/plain": [
       "<keras.src.callbacks.History at 0x7faaf86f6860>"
      ]
     },
     "execution_count": 66,
     "metadata": {},
     "output_type": "execute_result"
    }
   ],
   "source": [
    "# Train\n",
    "model.fit(X_train, y_train, epochs=10, batch_size=32, validation_split=0.2)"
   ]
  },
  {
   "cell_type": "code",
   "execution_count": 67,
   "id": "17f04164",
   "metadata": {},
   "outputs": [
    {
     "name": "stdout",
     "output_type": "stream",
     "text": [
      "8/8 [==============================] - 0s 5ms/step - loss: 0.0920 - accuracy: 0.9644\n",
      "0.9644444584846497\n"
     ]
    }
   ],
   "source": [
    "# evaluation\n",
    "test_loss, test_accuracy = model.evaluate(X_test, y_test)\n",
    "print(test_accuracy)\n"
   ]
  },
  {
   "cell_type": "code",
   "execution_count": 68,
   "id": "0fea70a2",
   "metadata": {},
   "outputs": [],
   "source": [
    "spark.stop()"
   ]
  },
  {
   "cell_type": "code",
   "execution_count": 70,
   "id": "4a3adac6",
   "metadata": {},
   "outputs": [],
   "source": [
    "import warnings\n",
    "warnings.filterwarnings(\"ignore\")"
   ]
  },
  {
   "cell_type": "code",
   "execution_count": 71,
   "id": "24913c03",
   "metadata": {},
   "outputs": [],
   "source": [
    "from pyspark.sql import SparkSession\n",
    "spark = SparkSession.builder.appName(\"cnn\").getOrCreate()"
   ]
  },
  {
   "cell_type": "code",
   "execution_count": 75,
   "id": "82e45ab0",
   "metadata": {},
   "outputs": [],
   "source": [
    "from sklearn.preprocessing import LabelBinarizer\n",
    "import cv2\n",
    "import matplotlib.pyplot as plt\n",
    "import numpy as np\n",
    "from sklearn.preprocessing import LabelEncoder\n",
    "import tensorflow as tf\n",
    "from tensorflow.keras.applications import VGG16\n",
    "from tensorflow.keras.layers import Dense, Flatten, Dropout\n",
    "from tensorflow.keras.models import Model\n",
    "from tensorflow.keras.optimizers import Adam\n",
    "from sklearn.model_selection import train_test_split"
   ]
  },
  {
   "cell_type": "code",
   "execution_count": 72,
   "id": "125eadab",
   "metadata": {},
   "outputs": [],
   "source": [
    "import os\n",
    "os.chdir(\"/home/hduser/Descargas/weather\")\n"
   ]
  },
  {
   "cell_type": "code",
   "execution_count": 73,
   "id": "9c5831f3",
   "metadata": {},
   "outputs": [],
   "source": [
    "folder = \"/home/hduser/Descargas/weather\"\n",
    "#directory with images folder"
   ]
  },
  {
   "cell_type": "code",
   "execution_count": 74,
   "id": "8b7951f4",
   "metadata": {},
   "outputs": [],
   "source": [
    "images = []\n",
    "labels = []\n",
    "\n",
    "# image size\n",
    "image_size = (224, 224)\n"
   ]
  },
  {
   "cell_type": "code",
   "execution_count": 76,
   "id": "7484c737",
   "metadata": {},
   "outputs": [],
   "source": [
    "# scan folder\n",
    "for x in os.listdir(folder):\n",
    "    image_path = os.path.join(folder, x)\n",
    "    pic = cv2.imread(image_path)\n",
    "    if pic is not None: # check if image is loaded\n",
    "       \n",
    "        if x.startswith(\"rain\"):# creation of labels based on image classifications\n",
    "            label = \"rain\"\n",
    "        elif x.startswith(\"cloudy\"):\n",
    "            label = \"cloudy\"\n",
    "        elif x.startswith(\"shine\"):\n",
    "            label = \"shine\"\n",
    "        elif x.startswith(\"sunrise\"):\n",
    "            label = \"sunrise\"\n",
    "        else:\n",
    "            label = \"other\" \n",
    "            \n",
    "       \n",
    "        pic = cv2.resize(pic, image_size) # adjust size\n",
    "        \n",
    "        images.append(pic)\n",
    "        labels.append(label)"
   ]
  },
  {
   "cell_type": "code",
   "execution_count": 77,
   "id": "72ac465c",
   "metadata": {},
   "outputs": [
    {
     "name": "stdout",
     "output_type": "stream",
     "text": [
      "['cloudy' 'rain' 'shine' 'sunrise']\n"
     ]
    }
   ],
   "source": [
    "# Verify unique labels\n",
    "unique_labels = np.unique(labels)\n",
    "\n",
    "print(unique_labels)"
   ]
  },
  {
   "cell_type": "code",
   "execution_count": 78,
   "id": "e426f076",
   "metadata": {},
   "outputs": [
    {
     "data": {
      "image/png": "[encoded data removed]",
      "text/plain": [
       "<Figure size 432x288 with 4 Axes>"
      ]
     },
     "metadata": {
      "needs_background": "light"
     },
     "output_type": "display_data"
    }
   ],
   "source": [
    "num_images = min(4, len(images)) # check images are loaded\n",
    "\n",
    "s_four = np.random.choice(len(images), num_images, replace=False) # Extract 4 images randomly\n",
    "\n",
    "# plot \n",
    "for i, idx in enumerate(s_four):\n",
    "    plt.subplot(1, num_images, i + 1)\n",
    "    plt.imshow(cv2.cvtColor(images[idx], cv2.COLOR_BGR2RGB))  \n",
    "    plt.title(f\"labels: {labels[idx]}\")\n",
    "    plt.axis('off')\n",
    "\n",
    "plt.show()"
   ]
  },
  {
   "cell_type": "code",
   "execution_count": 79,
   "id": "ad3cbc79",
   "metadata": {},
   "outputs": [],
   "source": [
    "label_counts = {\"rain\": 0, \"cloudy\": 0, \"shine\": 0, \"sunrise\": 0, \"other\": 0}"
   ]
  },
  {
   "cell_type": "code",
   "execution_count": 80,
   "id": "00615c11",
   "metadata": {},
   "outputs": [
    {
     "name": "stdout",
     "output_type": "stream",
     "text": [
      "rain: 214\n",
      "cloudy: 300\n",
      "shine: 252\n",
      "sunrise: 357\n",
      "other: 0\n"
     ]
    }
   ],
   "source": [
    "for label in labels: # count num images per category\n",
    "    label_counts[label] += 1\n",
    "\n",
    "for label, count in label_counts.items():\n",
    "    print(f\"{label}: {count}\")"
   ]
  },
  {
   "cell_type": "code",
   "execution_count": 81,
   "id": "79983592",
   "metadata": {},
   "outputs": [],
   "source": [
    "label_binarizer = LabelBinarizer()\n",
    "\n",
    "one_hot_labels = label_binarizer.fit_transform(labels) # one-hot encoding for labels"
   ]
  },
  {
   "cell_type": "code",
   "execution_count": 82,
   "id": "649c63d8",
   "metadata": {},
   "outputs": [
    {
     "name": "stdout",
     "output_type": "stream",
     "text": [
      "0.0\n",
      "1.0\n"
     ]
    }
   ],
   "source": [
    "# normalize pixel \n",
    "\n",
    "images = np.array(images)\n",
    "images = images.astype(np.float32)# data must be an array float32\n",
    "\n",
    "images /= 255.0\n",
    "# check data is in interval 0 and 1\n",
    "print(np.min(images))\n",
    "print(np.max(images))"
   ]
  },
  {
   "cell_type": "code",
   "execution_count": 83,
   "id": "1b531db7",
   "metadata": {},
   "outputs": [],
   "source": [
    "#split dataset train and test\n",
    "from sklearn.model_selection import train_test_split\n",
    "\n",
    "X_train_test, X_val, y_train_test, y_val = train_test_split(images, one_hot_labels, test_size=0.2, random_state=42)\n",
    "X_train, X_test, y_train, y_test = train_test_split(X_train_test, y_train_test, test_size=0.25, random_state=42)\n",
    "\n"
   ]
  },
  {
   "cell_type": "code",
   "execution_count": 84,
   "id": "b514870c",
   "metadata": {},
   "outputs": [],
   "source": [
    "base_model = VGG16(weights='imagenet', include_top=False, input_shape=(224, 224, 3))# load pre-trained model VGG16"
   ]
  },
  {
   "cell_type": "code",
   "execution_count": 85,
   "id": "0da8be17",
   "metadata": {},
   "outputs": [
    {
     "name": "stderr",
     "output_type": "stream",
     "text": [
      "2023-09-24 22:43:33.907587: W tensorflow/tsl/framework/cpu_allocator_impl.cc:83] Allocation of 51380224 exceeds 10% of free system memory.\n",
      "2023-09-24 22:43:34.037268: W tensorflow/tsl/framework/cpu_allocator_impl.cc:83] Allocation of 51380224 exceeds 10% of free system memory.\n",
      "2023-09-24 22:43:34.257697: W tensorflow/tsl/framework/cpu_allocator_impl.cc:83] Allocation of 51380224 exceeds 10% of free system memory.\n"
     ]
    }
   ],
   "source": [
    "x = base_model.output\n",
    "x = Flatten()(x)\n",
    "x = Dense(512, activation='relu')(x)\n",
    "x = Dropout(0.5)(x)\n",
    "x = Dense(4, activation='softmax')(x)  # 4 categories: cloudy, rain, shine, sunrise"
   ]
  },
  {
   "cell_type": "code",
   "execution_count": 86,
   "id": "48668587",
   "metadata": {},
   "outputs": [],
   "source": [
    "model = Model(inputs=base_model.input, outputs=x) # final model"
   ]
  },
  {
   "cell_type": "code",
   "execution_count": 87,
   "id": "198ab5fa",
   "metadata": {},
   "outputs": [],
   "source": [
    "# freeze weights\n",
    "for layer in base_model.layers:\n",
    "    layer.trainable = False"
   ]
  },
  {
   "cell_type": "code",
   "execution_count": 89,
   "id": "43257468",
   "metadata": {},
   "outputs": [
    {
     "name": "stdout",
     "output_type": "stream",
     "text": [
      "CPU times: user 0 ns, sys: 4 µs, total: 4 µs\n",
      "Wall time: 7.39 µs\n"
     ]
    }
   ],
   "source": [
    "\n",
    "model.compile(optimizer=Adam(learning_rate=0.0001), loss='categorical_crossentropy', metrics=['accuracy'])"
   ]
  },
  {
   "cell_type": "code",
   "execution_count": null,
   "id": "d836b5bc",
   "metadata": {},
   "outputs": [
    {
     "name": "stdout",
     "output_type": "stream",
     "text": [
      "CPU times: user 0 ns, sys: 3 µs, total: 3 µs\n",
      "Wall time: 4.53 µs\n"
     ]
    },
    {
     "name": "stderr",
     "output_type": "stream",
     "text": [
      "2023-09-24 22:45:46.000223: W tensorflow/tsl/framework/cpu_allocator_impl.cc:83] Allocation of 405221376 exceeds 10% of free system memory.\n"
     ]
    },
    {
     "name": "stdout",
     "output_type": "stream",
     "text": [
      "Epoch 1/10\n"
     ]
    },
    {
     "name": "stderr",
     "output_type": "stream",
     "text": [
      "2023-09-24 22:45:47.538025: W tensorflow/tsl/framework/cpu_allocator_impl.cc:83] Allocation of 51380224 exceeds 10% of free system memory.\n"
     ]
    },
    {
     "name": "stdout",
     "output_type": "stream",
     "text": [
      "22/22 [==============================] - 239s 11s/step - loss: 0.9976 - accuracy: 0.5973 - val_loss: 0.6143 - val_accuracy: 0.7733\n",
      "Epoch 2/10\n",
      "22/22 [==============================] - 221s 10s/step - loss: 0.4008 - accuracy: 0.8574 - val_loss: 0.3899 - val_accuracy: 0.8667\n",
      "Epoch 3/10\n",
      "22/22 [==============================] - 220s 10s/step - loss: 0.2512 - accuracy: 0.9272 - val_loss: 0.3697 - val_accuracy: 0.8489\n",
      "Epoch 4/10\n",
      "22/22 [==============================] - 184s 8s/step - loss: 0.1834 - accuracy: 0.9554 - val_loss: 0.2934 - val_accuracy: 0.9111\n",
      "Epoch 5/10\n",
      "22/22 [==============================] - 3020s 143s/step - loss: 0.1800 - accuracy: 0.9465 - val_loss: 0.2827 - val_accuracy: 0.8978\n",
      "Epoch 6/10\n",
      " 6/22 [=======>......................] - ETA: 2:32 - loss: 0.1139 - accuracy: 0.9688"
     ]
    }
   ],
   "source": [
    "%time\n",
    "cnn_fit = model.fit(X_train, y_train, validation_data=(X_val, y_val), epochs=10, batch_size=32)"
   ]
  },
  {
   "cell_type": "code",
   "execution_count": null,
   "id": "14e06fab",
   "metadata": {},
   "outputs": [],
   "source": [
    "# evaluation\n",
    "test_loss, test_accuracy = model.evaluate(X_test, y_test)\n",
    "print(test_accuracy)\n"
   ]
  },
  {
   "cell_type": "code",
   "execution_count": null,
   "id": "e65a5b6f",
   "metadata": {},
   "outputs": [],
   "source": [
    "spark.stop()"
   ]
  },
  {
   "cell_type": "code",
   "execution_count": null,
   "id": "2301978a",
   "metadata": {},
   "outputs": [],
   "source": []
  }
 ],
 "metadata": {
  "kernelspec": {
   "display_name": "Python 3 (ipykernel)",
   "language": "python",
   "name": "python3"
  },
  "language_info": {
   "codemirror_mode": {
    "name": "ipython",
    "version": 3
   },
   "file_extension": ".py",
   "mimetype": "text/x-python",
   "name": "python",
   "nbconvert_exporter": "python",
   "pygments_lexer": "ipython3",
   "version": "3.10.12"
  }
 },
 "nbformat": 4,
 "nbformat_minor": 5
}
