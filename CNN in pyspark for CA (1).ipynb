{
 "cells": [
  {
   "cell_type": "code",
   "execution_count": 1,
   "id": "c84990e0",
   "metadata": {},
   "outputs": [],
   "source": [
    "from pyspark.sql import SparkSession"
   ]
  },
  {
   "cell_type": "code",
   "execution_count": 2,
   "id": "8acdfc12",
   "metadata": {},
   "outputs": [],
   "source": [
    "# initialize pyspark\n",
    "spark = SparkSession.builder.appName(\"ImageDB\").getOrCreate()"
   ]
  },
  {
   "cell_type": "code",
   "execution_count": 3,
   "id": "0a7f3d9d",
   "metadata": {},
   "outputs": [],
   "source": [
    "# Cload from hadoop folder\n",
    "image_df = spark.read.format(\"image\").option(\"dropInvalid\", True).load(\"hdfs://localhost:9000/user1/weather\")\n"
   ]
  },
  {
   "cell_type": "code",
   "execution_count": 5,
   "id": "91f7ac0b",
   "metadata": {},
   "outputs": [],
   "source": [
    "# create database PySpark\n",
    "image_df.createOrReplaceTempView(\"image_db\")\n"
   ]
  },
  {
   "cell_type": "code",
   "execution_count": 6,
   "id": "e6ba2db9",
   "metadata": {},
   "outputs": [
    {
     "name": "stdout",
     "output_type": "stream",
     "text": [
      "root\n",
      " |-- image: struct (nullable = true)\n",
      " |    |-- origin: string (nullable = true)\n",
      " |    |-- height: integer (nullable = true)\n",
      " |    |-- width: integer (nullable = true)\n",
      " |    |-- nChannels: integer (nullable = true)\n",
      " |    |-- mode: integer (nullable = true)\n",
      " |    |-- data: binary (nullable = true)\n",
      "\n"
     ]
    }
   ],
   "source": [
    "# print schema\n",
    "image_df.printSchema()\n"
   ]
  },
  {
   "cell_type": "code",
   "execution_count": null,
   "id": "0dfcfd62",
   "metadata": {},
   "outputs": [],
   "source": []
  }
 ],
 "metadata": {
  "kernelspec": {
   "display_name": "Python 3 (ipykernel)",
   "language": "python",
   "name": "python3"
  },
  "language_info": {
   "codemirror_mode": {
    "name": "ipython",
    "version": 3
   },
   "file_extension": ".py",
   "mimetype": "text/x-python",
   "name": "python",
   "nbconvert_exporter": "python",
   "pygments_lexer": "ipython3",
   "version": "3.10.9"
  }
 },
 "nbformat": 4,
 "nbformat_minor": 5
}
