{
 "cells": [
  {
   "cell_type": "code",
   "execution_count": 24,
   "id": "2462d9b6",
   "metadata": {},
   "outputs": [],
   "source": [
    "import os\n",
    "import csv\n",
    "import pandas as pd\n",
    "from torchvision import transforms\n",
    "from PIL import Image"
   ]
  },
  {
   "cell_type": "code",
   "execution_count": 4,
   "id": "8d8b2888",
   "metadata": {},
   "outputs": [],
   "source": [
    "folder = \"Downloads/weather\"\n",
    "#directory with images folder"
   ]
  },
  {
   "cell_type": "markdown",
   "id": "1979dbdc",
   "metadata": {},
   "source": [
    "# Data preprocessing"
   ]
  },
  {
   "cell_type": "code",
   "execution_count": 22,
   "id": "1d08a1d1",
   "metadata": {},
   "outputs": [],
   "source": [
    "# create CSV with labels and image names\n",
    "\n",
    "# assign label\n",
    "def assign_label(nome_file):\n",
    "    if nome_file.startswith(\"rain\"):\n",
    "        return \"rain\"\n",
    "    elif nome_file.startswith(\"cloudy\"):\n",
    "        return \"cloudy\"\n",
    "    elif nome_file.startswith(\"shine\"):\n",
    "        return \"shine\"\n",
    "    elif nome_file.startswith(\"sunrise\"):\n",
    "        return \"sunrise\"\n",
    "    else:\n",
    "        return \"other\"\n",
    "\n",
    "# List\n",
    "dati = []\n",
    "\n",
    "\n",
    "for x in os.listdir(folder):\n",
    "    if x.endswith(tuple(\".jpg\")):\n",
    "        label = assign_label(x)\n",
    "        dati.append((x, label))\n",
    "\n",
    "\n",
    "df = pd.DataFrame(dati, columns=[\"image\", \"label\"])\n",
    "\n"
   ]
  },
  {
   "cell_type": "code",
   "execution_count": 23,
   "id": "5e75b1eb",
   "metadata": {},
   "outputs": [
    {
     "data": {
      "text/html": [
       "<div>\n",
       "<style scoped>\n",
       "    .dataframe tbody tr th:only-of-type {\n",
       "        vertical-align: middle;\n",
       "    }\n",
       "\n",
       "    .dataframe tbody tr th {\n",
       "        vertical-align: top;\n",
       "    }\n",
       "\n",
       "    .dataframe thead th {\n",
       "        text-align: right;\n",
       "    }\n",
       "</style>\n",
       "<table border=\"1\" class=\"dataframe\">\n",
       "  <thead>\n",
       "    <tr style=\"text-align: right;\">\n",
       "      <th></th>\n",
       "      <th>image</th>\n",
       "      <th>label</th>\n",
       "    </tr>\n",
       "  </thead>\n",
       "  <tbody>\n",
       "    <tr>\n",
       "      <th>0</th>\n",
       "      <td>cloudy126.jpg</td>\n",
       "      <td>cloudy</td>\n",
       "    </tr>\n",
       "    <tr>\n",
       "      <th>1</th>\n",
       "      <td>rain20.jpg</td>\n",
       "      <td>rain</td>\n",
       "    </tr>\n",
       "    <tr>\n",
       "      <th>2</th>\n",
       "      <td>rain34.jpg</td>\n",
       "      <td>rain</td>\n",
       "    </tr>\n",
       "    <tr>\n",
       "      <th>3</th>\n",
       "      <td>cloudy132.jpg</td>\n",
       "      <td>cloudy</td>\n",
       "    </tr>\n",
       "    <tr>\n",
       "      <th>4</th>\n",
       "      <td>sunrise33.jpg</td>\n",
       "      <td>sunrise</td>\n",
       "    </tr>\n",
       "  </tbody>\n",
       "</table>\n",
       "</div>"
      ],
      "text/plain": [
       "           image    label\n",
       "0  cloudy126.jpg   cloudy\n",
       "1     rain20.jpg     rain\n",
       "2     rain34.jpg     rain\n",
       "3  cloudy132.jpg   cloudy\n",
       "4  sunrise33.jpg  sunrise"
      ]
     },
     "execution_count": 23,
     "metadata": {},
     "output_type": "execute_result"
    }
   ],
   "source": [
    "df.head()"
   ]
  }
 ],
 "metadata": {
  "kernelspec": {
   "display_name": "Python 3 (ipykernel)",
   "language": "python",
   "name": "python3"
  },
  "language_info": {
   "codemirror_mode": {
    "name": "ipython",
    "version": 3
   },
   "file_extension": ".py",
   "mimetype": "text/x-python",
   "name": "python",
   "nbconvert_exporter": "python",
   "pygments_lexer": "ipython3",
   "version": "3.10.9"
  }
 },
 "nbformat": 4,
 "nbformat_minor": 5
}
