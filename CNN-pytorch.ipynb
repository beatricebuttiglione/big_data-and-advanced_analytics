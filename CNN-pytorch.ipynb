{
 "cells": [
  {
   "cell_type": "code",
   "execution_count": 9,
   "id": "98d1eb1d",
   "metadata": {},
   "outputs": [],
   "source": [
    "import os\n",
    "import csv\n",
    "import pandas as pd\n",
    "from torchvision import transforms\n",
    "from PIL import Image"
   ]
  },
  {
   "cell_type": "code",
   "execution_count": 10,
   "id": "8d8b2888",
   "metadata": {},
   "outputs": [],
   "source": [
    "folder = \"Downloads/weather\"\n",
    "#directory with images folder"
   ]
  },
  {
   "cell_type": "markdown",
   "id": "f7aecbea",
   "metadata": {},
   "source": [
    "# Data preprocessing"
   ]
  },
  {
   "cell_type": "code",
   "execution_count": 11,
   "id": "31d478f2",
   "metadata": {},
   "outputs": [],
   "source": [
    "# create CSV with labels and image names\n",
    "\n",
    "# assign label\n",
    "def assign_label(nome_file):\n",
    "    if nome_file.startswith(\"rain\"):\n",
    "        return \"rain\"\n",
    "    elif nome_file.startswith(\"cloudy\"):\n",
    "        return \"cloudy\"\n",
    "    elif nome_file.startswith(\"shine\"):\n",
    "        return \"shine\"\n",
    "    elif nome_file.startswith(\"sunrise\"):\n",
    "        return \"sunrise\"\n",
    "    else:\n",
    "        return \"other\"\n",
    "\n",
    "# List\n",
    "dati = []\n",
    "\n",
    "\n",
    "for x in os.listdir(folder):\n",
    "    if x.endswith(tuple(\".jpg\")):\n",
    "        label = assign_label(x)\n",
    "        dati.append((x, label))\n",
    "\n",
    "\n",
    "df = pd.DataFrame(dati, columns=[\"image\", \"label\"])\n",
    "\n"
   ]
  },
  {
   "cell_type": "code",
   "execution_count": 12,
   "id": "05cef31b",
   "metadata": {},
   "outputs": [
    {
     "data": {
      "text/html": [
       "<div>\n",
       "<style scoped>\n",
       "    .dataframe tbody tr th:only-of-type {\n",
       "        vertical-align: middle;\n",
       "    }\n",
       "\n",
       "    .dataframe tbody tr th {\n",
       "        vertical-align: top;\n",
       "    }\n",
       "\n",
       "    .dataframe thead th {\n",
       "        text-align: right;\n",
       "    }\n",
       "</style>\n",
       "<table border=\"1\" class=\"dataframe\">\n",
       "  <thead>\n",
       "    <tr style=\"text-align: right;\">\n",
       "      <th></th>\n",
       "      <th>image</th>\n",
       "      <th>label</th>\n",
       "    </tr>\n",
       "  </thead>\n",
       "  <tbody>\n",
       "    <tr>\n",
       "      <th>0</th>\n",
       "      <td>cloudy126.jpg</td>\n",
       "      <td>cloudy</td>\n",
       "    </tr>\n",
       "    <tr>\n",
       "      <th>1</th>\n",
       "      <td>rain20.jpg</td>\n",
       "      <td>rain</td>\n",
       "    </tr>\n",
       "    <tr>\n",
       "      <th>2</th>\n",
       "      <td>rain34.jpg</td>\n",
       "      <td>rain</td>\n",
       "    </tr>\n",
       "    <tr>\n",
       "      <th>3</th>\n",
       "      <td>cloudy132.jpg</td>\n",
       "      <td>cloudy</td>\n",
       "    </tr>\n",
       "    <tr>\n",
       "      <th>4</th>\n",
       "      <td>sunrise33.jpg</td>\n",
       "      <td>sunrise</td>\n",
       "    </tr>\n",
       "  </tbody>\n",
       "</table>\n",
       "</div>"
      ],
      "text/plain": [
       "           image    label\n",
       "0  cloudy126.jpg   cloudy\n",
       "1     rain20.jpg     rain\n",
       "2     rain34.jpg     rain\n",
       "3  cloudy132.jpg   cloudy\n",
       "4  sunrise33.jpg  sunrise"
      ]
     },
     "execution_count": 12,
     "metadata": {},
     "output_type": "execute_result"
    }
   ],
   "source": [
    "df.head()"
   ]
  },
  {
   "cell_type": "code",
   "execution_count": 13,
   "id": "160a4314",
   "metadata": {},
   "outputs": [],
   "source": [
    "# input dimensions for the CNN\n",
    "input_dim = (224,224)\n",
    "input_dir_cnn = folder + \"/images/input_images_cnn\"\n"
   ]
  },
  {
   "cell_type": "code",
   "execution_count": 14,
   "id": "c941d301",
   "metadata": {},
   "outputs": [],
   "source": [
    "os.makedirs(input_dir_cnn, exist_ok = True)\n"
   ]
  },
  {
   "cell_type": "code",
   "execution_count": 15,
   "id": "9284a250",
   "metadata": {},
   "outputs": [],
   "source": [
    "transformation_for_cnn_input = transforms.Compose([transforms.Resize(input_dim)])\n"
   ]
  },
  {
   "cell_type": "code",
   "execution_count": 16,
   "id": "f65c3279",
   "metadata": {},
   "outputs": [],
   "source": [
    "output_dir = 'Downloads/output_images_cnn'\n"
   ]
  },
  {
   "cell_type": "code",
   "execution_count": 17,
   "id": "3918402d",
   "metadata": {},
   "outputs": [],
   "source": [
    "folder = 'Downloads/weather'  \n",
    "input_dir_cnn = output_dir  \n",
    "\n",
    "\n",
    "os.makedirs(input_dir_cnn, exist_ok=True)\n",
    "\n",
    "for item in os.listdir(folder):\n",
    "    item_path = os.path.join(folder, item)\n",
    "\n",
    "    \n",
    "    if os.path.isfile(item_path):  # if is a file\n",
    "        I = Image.open(item_path)\n",
    "\n",
    "        \n",
    "        if I.mode != 'RGB': # convert in RGB (colors)\n",
    "            I = I.convert('RGB')\n",
    "\n",
    "        \n",
    "        newI = transformation_for_cnn_input(I) # transform for cnn\n",
    "\n",
    "        \n",
    "        newI.save(os.path.join(input_dir_cnn, item)) # save in jpeg\n",
    "\n",
    "        # close images\n",
    "        I.close()\n",
    "        newI.close()\n"
   ]
  },
  {
   "cell_type": "code",
   "execution_count": 18,
   "id": "9a6277e9",
   "metadata": {},
   "outputs": [],
   "source": [
    "import torch\n",
    "from torchvision import models\n",
    "from PIL import Image"
   ]
  },
  {
   "cell_type": "code",
   "execution_count": 19,
   "id": "80ae8e60",
   "metadata": {},
   "outputs": [],
   "source": [
    "class Img2VecResnet18():\n",
    "    \n",
    "    def __init__(self):\n",
    "        \n",
    "        self.device = torch.device(\"cpu\")\n",
    "        self.numberFeatures = 512\n",
    "        self.modelName = \"resnet-18\"\n",
    "        self.model, self.featureLayer = self.getFeatureLayer() \n",
    "        self.model = self.model.to(self.device) \n",
    "        self.model.eval()\n",
    "        self.toTensor = transforms.ToTensor()\n",
    "        self.normalize = transforms.Normalize(mean=[0.485, 0.456, 0.406],\n",
    "                                              std=[0.229, 0.224, 0.225])\n",
    "        \n",
    "    def getFeatureLayer(self):\n",
    "    \n",
    "        cnnModel = models.resnet18(pretrained=True) \n",
    "        layer = cnnModel._modules.get('avgpool') \n",
    "        self.layer_output_size = 512\n",
    "        return cnnModel, layer\n",
    "\n",
    "    def getVec(self, img):\n",
    "        image = self.normalize(self.toTensor(img)).unsqueeze(0).to(self.device) \n",
    "        embedding = torch.zeros(1, self.numberFeatures, 1, 1)\n",
    "        def copyData(m, i, o): embedding.copy_(o.data)\n",
    "        h = self.featureLayer.register_forward_hook(copyData)\n",
    "        self.model(image)\n",
    "        h.remove()\n",
    "        return embedding.numpy()[0, :, 0, 0]\n",
    "\n",
    "\n",
    "    \n"
   ]
  },
  {
   "cell_type": "code",
   "execution_count": null,
   "id": "8cf7ad37",
   "metadata": {},
   "outputs": [],
   "source": [
    "\n"
   ]
  },
  {
   "cell_type": "code",
   "execution_count": 20,
   "id": "866b67b0",
   "metadata": {},
   "outputs": [],
   "source": [
    "import tqdm\n",
    "from torchvision import models, transforms "
   ]
  },
  {
   "cell_type": "code",
   "execution_count": 26,
   "id": "8acc49cc",
   "metadata": {},
   "outputs": [],
   "source": [
    "img2vec = Img2VecResnet18()"
   ]
  },
  {
   "cell_type": "code",
   "execution_count": 27,
   "id": "8b5739d5",
   "metadata": {},
   "outputs": [],
   "source": [
    "allVectors = {}"
   ]
  },
  {
   "cell_type": "code",
   "execution_count": 28,
   "id": "59cfa65f",
   "metadata": {},
   "outputs": [],
   "source": [
    "for image_name in os.listdir(input_dir_cnn):\n",
    "    I = Image.open(os.path.join(input_dir_cnn, image_name))\n",
    "    vec = img2vec.getVec(I)\n",
    "    allVectors[image_name] = vec\n",
    "    I.close()"
   ]
  },
  {
   "cell_type": "code",
   "execution_count": 36,
   "id": "93de5e3d",
   "metadata": {},
   "outputs": [],
   "source": [
    "data_folder = os.path.expanduser('~/Downloads')"
   ]
  },
  {
   "cell_type": "code",
   "execution_count": 37,
   "id": "e387947e",
   "metadata": {},
   "outputs": [],
   "source": [
    "pd.DataFrame(allVectors).transpose().to_csv(data_folder+'/input_data_vectors.csv')\n"
   ]
  },
  {
   "cell_type": "code",
   "execution_count": null,
   "id": "ee6fb9c5",
   "metadata": {},
   "outputs": [],
   "source": []
  },
  {
   "cell_type": "code",
   "execution_count": null,
   "id": "6d24b6e0",
   "metadata": {},
   "outputs": [],
   "source": []
  }
 ],
 "metadata": {
  "kernelspec": {
   "display_name": "Python 3 (ipykernel)",
   "language": "python",
   "name": "python3"
  },
  "language_info": {
   "codemirror_mode": {
    "name": "ipython",
    "version": 3
   },
   "file_extension": ".py",
   "mimetype": "text/x-python",
   "name": "python",
   "nbconvert_exporter": "python",
   "pygments_lexer": "ipython3",
   "version": "3.10.9"
  }
 },
 "nbformat": 4,
 "nbformat_minor": 5
}
